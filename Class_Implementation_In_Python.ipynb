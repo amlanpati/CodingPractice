{
 "cells": [
  {
   "cell_type": "markdown",
   "id": "18cd85bb",
   "metadata": {},
   "source": [
    "#### 1. The Person class has a constructor that takes name and age as arguments and assigns them to the object's attributes. The introduce method is then invoked on the object to introduce the person."
   ]
  },
  {
   "cell_type": "code",
   "execution_count": 1,
   "id": "1f9233a3",
   "metadata": {},
   "outputs": [],
   "source": [
    "class Person:\n",
    "    def __init__(self, name, age):\n",
    "        self.name = name\n",
    "        self.age = age\n",
    "    def introduce(self):\n",
    "        print(f\"My name is {self.name} and I am {self.age} years old.\")"
   ]
  },
  {
   "cell_type": "code",
   "execution_count": 2,
   "id": "d8a0f89c",
   "metadata": {},
   "outputs": [
    {
     "name": "stdout",
     "output_type": "stream",
     "text": [
      "My name is Amlan and I am 25 years old.\n"
     ]
    }
   ],
   "source": [
    "person1 = Person(\"Amlan\", 25)\n",
    "person1.introduce()"
   ]
  },
  {
   "cell_type": "markdown",
   "id": "38e695c0",
   "metadata": {},
   "source": [
    "#### 2. The Car class has a constructor that takes brand and model as arguments and assigns them to the object's attributes. The display_info method is then invoked on the object to display the car's brand and model."
   ]
  },
  {
   "cell_type": "code",
   "execution_count": 3,
   "id": "c21ca8f6",
   "metadata": {},
   "outputs": [],
   "source": [
    "class Car:\n",
    "    def __init__(self, brand, model):\n",
    "        self.brand = brand\n",
    "        self.model = model\n",
    "    def display_info(self):\n",
    "        print(f\"Brand name: {self.brand}, Model: {self.model}\")"
   ]
  },
  {
   "cell_type": "code",
   "execution_count": 4,
   "id": "e8c3374e",
   "metadata": {},
   "outputs": [
    {
     "name": "stdout",
     "output_type": "stream",
     "text": [
      "Brand name: Sujuki, Model: Jimny\n"
     ]
    }
   ],
   "source": [
    "car1 = Car(\"Sujuki\", \"Jimny\")\n",
    "car1.display_info()"
   ]
  },
  {
   "cell_type": "markdown",
   "id": "4032593f",
   "metadata": {},
   "source": [
    "#### 3. The BankAccount class has a constructor that takes account_number and balance as arguments and assigns them to the object's attributes. The display_balance method is then invoked on the object to display the account number and balance."
   ]
  },
  {
   "cell_type": "code",
   "execution_count": 5,
   "id": "7a9791f6",
   "metadata": {},
   "outputs": [],
   "source": [
    "class BankAccount:\n",
    "    def __init__(self, account_number, balance):\n",
    "        #Giving different names to arguments and object attributes\n",
    "        self.acc_no = account_number\n",
    "        self.bal = balance\n",
    "    def display_balance(self):\n",
    "        #Using .format() instead of f\"\"\n",
    "        print(\"The account number {} has Rs. {} balance.\".format(self.acc_no, self.bal))"
   ]
  },
  {
   "cell_type": "code",
   "execution_count": 6,
   "id": "2f4aa33e",
   "metadata": {},
   "outputs": [
    {
     "name": "stdout",
     "output_type": "stream",
     "text": [
      "The account number 34995688452 has Rs. 12000 balance.\n"
     ]
    }
   ],
   "source": [
    "account1 = BankAccount(34995688452, 12000)\n",
    "account1.display_balance()"
   ]
  },
  {
   "cell_type": "markdown",
   "id": "6a550834",
   "metadata": {},
   "source": [
    "#### 4. The MobilePhone class has a constructor that takes brand and model as arguments and assigns them to the object's attributes. The make_call method is then invoked on the object to make a call with the phone."
   ]
  },
  {
   "cell_type": "code",
   "execution_count": 7,
   "id": "e10f93fe",
   "metadata": {},
   "outputs": [],
   "source": [
    "class MobilePhone:\n",
    "    def __init__(self, brand, model):\n",
    "        self.brand = brand\n",
    "        self.model = model\n",
    "    def make_call(self, number):\n",
    "        print(f\"{self.brand} {self.model} is calling {number}.\")"
   ]
  },
  {
   "cell_type": "code",
   "execution_count": 8,
   "id": "2ddc17a0",
   "metadata": {},
   "outputs": [
    {
     "name": "stdout",
     "output_type": "stream",
     "text": [
      "Samsung Galaxy M33 is calling 911.\n"
     ]
    }
   ],
   "source": [
    "mobile1 = MobilePhone(\"Samsung\", \"Galaxy M33\")\n",
    "mobile1.make_call(911)"
   ]
  },
  {
   "cell_type": "markdown",
   "id": "a2ef4d48",
   "metadata": {},
   "source": [
    "#### 5. The Book class has a constructor that takes title and author as arguments and assigns them to the object's attributes. The display_info method is then invoked on the object to display the book's title and author."
   ]
  },
  {
   "cell_type": "code",
   "execution_count": 9,
   "id": "b131e8d6",
   "metadata": {},
   "outputs": [],
   "source": [
    "class Book:\n",
    "    def __init__(self, title, author):\n",
    "        self.title = title\n",
    "        self.author = author\n",
    "    def display_info(self):\n",
    "        print(f\"The book '{self.title}' is written by {self.author}.\")"
   ]
  },
  {
   "cell_type": "code",
   "execution_count": 10,
   "id": "a6b9a2f5",
   "metadata": {},
   "outputs": [
    {
     "name": "stdout",
     "output_type": "stream",
     "text": [
      "The book 'The Jungle Book' is written by Rudyard Kipling.\n",
      "The book 'The Hound of the Baskervilles' is written by Arthur Conan Doyle.\n"
     ]
    }
   ],
   "source": [
    "book1 = Book(\"The Jungle Book\", \"Rudyard Kipling\")\n",
    "book1.display_info()\n",
    "book2 = Book(\"The Hound of the Baskervilles\", \"Arthur Conan Doyle\")\n",
    "book2.display_info()"
   ]
  },
  {
   "cell_type": "markdown",
   "id": "18e620bb",
   "metadata": {},
   "source": [
    "#### 6. Vehicles: Create a base class called Vehicle with attributes such as make, model, and year. Implement two subclasses Car and Motorcycle that inherit from Vehicle. Add additional methods to the subclasses, such as start_engine() and stop_engine(), and handle any specific behavior or rules for each vehicle type."
   ]
  },
  {
   "cell_type": "code",
   "execution_count": 11,
   "id": "98174915",
   "metadata": {},
   "outputs": [],
   "source": [
    "class Vehicle:\n",
    "    def __init__(self, make, model, year):\n",
    "        self.make = make\n",
    "        self.model = model\n",
    "        self.year = year\n",
    "    def display_info(self):\n",
    "        print(f\"Vehicle: {self.make} {self.model} ({self.year})\")\n",
    "class Car(Vehicle):\n",
    "    def __init__(self, make, model, year, seats):\n",
    "        super().__init__(make, model, year)\n",
    "        self.seats = seats\n",
    "    def start_engine(self):\n",
    "        super().display_info()\n",
    "        print(f\"Number of seats: {self.seats}\")\n",
    "        print(f\"Starting engine.\")\n",
    "        print(\"-----------------------------------------------\")\n",
    "    def stop_engine(self):\n",
    "        super().display_info()\n",
    "        print(f\"Number of seats: {self.seats}\")\n",
    "        print(\"Stopping engine.\")\n",
    "        print(\"-----------------------------------------------\")\n",
    "class Motorcycle(Vehicle):\n",
    "    def __init__(self, make, model, year, mileage):\n",
    "        super().__init__(make, model, year)\n",
    "        self.mileage = mileage\n",
    "    def start_engine(self):\n",
    "        super().display_info()\n",
    "        print(f\"Mileage: {self.mileage} km/L\")\n",
    "        print(f\"Starting engine.\")\n",
    "        print(\"-----------------------------------------------\")\n",
    "    def stop_engine(self):\n",
    "        super().display_info()\n",
    "        print(f\"Mileage: {self.mileage} km/L\")\n",
    "        print(\"Stopping engine.\")\n",
    "        print(\"-----------------------------------------------\")"
   ]
  },
  {
   "cell_type": "code",
   "execution_count": 12,
   "id": "ffb2a520",
   "metadata": {},
   "outputs": [
    {
     "name": "stdout",
     "output_type": "stream",
     "text": [
      "Vehicle: Nissan Altima (2022)\n",
      "Number of seats: 5\n",
      "Starting engine.\n",
      "-----------------------------------------------\n",
      "Vehicle: Nissan Altima (2022)\n",
      "Number of seats: 5\n",
      "Stopping engine.\n",
      "-----------------------------------------------\n",
      "Vehicle: TVS Sport (2007)\n",
      "Mileage: 70 km/L\n",
      "Starting engine.\n",
      "-----------------------------------------------\n",
      "Vehicle: TVS Sport (2007)\n",
      "Mileage: 70 km/L\n",
      "Stopping engine.\n",
      "-----------------------------------------------\n"
     ]
    }
   ],
   "source": [
    "car = Car(\"Nissan\", \"Altima\", 2022, 5)\n",
    "car.start_engine()\n",
    "car.stop_engine()\n",
    "bike = Motorcycle(\"TVS\", \"Sport\", 2007, 70)\n",
    "bike.start_engine()\n",
    "bike.stop_engine()"
   ]
  },
  {
   "cell_type": "markdown",
   "id": "3361992c",
   "metadata": {},
   "source": [
    "#### 7. Animals: Create a base class called Animal with methods such as eat() and sleep(). Implement two subclasses Dog and Cat that inherit from Animal. Add additional methods to the subclasses, such as bark() for dogs and meow() for cats, and handle any specific behavior or rules for each animal type."
   ]
  },
  {
   "cell_type": "code",
   "execution_count": 13,
   "id": "9a7feb43",
   "metadata": {},
   "outputs": [],
   "source": [
    "class Animal:\n",
    "    def __init__(self, name):\n",
    "        self.name = name\n",
    "    def eat(self):\n",
    "        print(\"Eats...\")\n",
    "    def sleep(self):\n",
    "        print(\"Sleeps...\")\n",
    "class Dog(Animal):\n",
    "    def __init__(self, name, is_loyal):\n",
    "        super().__init__(name)\n",
    "        self.is_loyal = is_loyal\n",
    "    def bark(self):\n",
    "        print(\"Woof woof!!\")\n",
    "    def activity(self):\n",
    "        print(f\"{self.name}\")\n",
    "        super().eat()\n",
    "        super().sleep()\n",
    "        print(f\"Loyal : {self.is_loyal}\")\n",
    "class Cat(Animal):\n",
    "    def __init__(self, name, behaviour):\n",
    "        super().__init__(name)\n",
    "        self.behaviour = behaviour\n",
    "    def meow(self):\n",
    "        print(\"Meow meow!!\")\n",
    "    def activity(self):\n",
    "        print(f\"{self.name}\")\n",
    "        super().eat()\n",
    "        super().sleep()\n",
    "        print(f\"Behaviour : {self.behaviour}\")"
   ]
  },
  {
   "cell_type": "code",
   "execution_count": 14,
   "id": "7b22caf9",
   "metadata": {},
   "outputs": [
    {
     "name": "stdout",
     "output_type": "stream",
     "text": [
      "Woof woof!!\n",
      "Butch\n",
      "Eats...\n",
      "Sleeps...\n",
      "Loyal : Yes\n",
      "Meow meow!!\n",
      "Tom\n",
      "Eats...\n",
      "Sleeps...\n",
      "Behaviour : Friendly\n"
     ]
    }
   ],
   "source": [
    "dog = Dog(\"Butch\", \"Yes\")\n",
    "dog.bark()\n",
    "dog.activity()\n",
    "cat = Cat(\"Tom\", \"Friendly\")\n",
    "cat.meow()\n",
    "cat.activity()"
   ]
  },
  {
   "cell_type": "markdown",
   "id": "6b5ddaef",
   "metadata": {},
   "source": [
    "#### 8. Library Catalog: Create a base class called LibraryItem with attributes such as title, author, and publication_year. Implement two subclasses Book and Magazine that inherit from LibraryItem. Add additional methods to the subclasses, such as checkout() and return_item(), and handle any specific behavior or rules for each item type."
   ]
  },
  {
   "cell_type": "code",
   "execution_count": 15,
   "id": "74b66ec5",
   "metadata": {},
   "outputs": [],
   "source": [
    "class LibraryItem:\n",
    "    def __init__(self, title, author, publication_year):\n",
    "        self.title = title\n",
    "        self.author = author\n",
    "        self.year = publication_year\n",
    "    def show_details(self):\n",
    "        print(f\"Book: {self.title}, Author: {self.author}, Year of publication: {self.year}...\")\n",
    "class Book(LibraryItem):\n",
    "    def __init__(self, title, author, publication_year, rating):\n",
    "        super().__init__(title, author, publication_year)\n",
    "        self.rating = rating\n",
    "    def checkout(self):\n",
    "        super().show_details()\n",
    "        print(f\"Checked out...It has {self.rating}/5 rating...\")\n",
    "        print(\"-----------------------------------------------\")\n",
    "    def return_item(self):\n",
    "        super().show_details()\n",
    "        print(\"Book returned...\")\n",
    "        print(\"-----------------------------------------------\")\n",
    "class Magazine(LibraryItem):\n",
    "    def __init__(self, title, author, publication_year, genre):\n",
    "        super().__init__(title, author, publication_year)\n",
    "        self.genre = genre\n",
    "    def checkout(self):\n",
    "        super().show_details()\n",
    "        print(f\"Checked out...It is a/an {self.genre}...\")\n",
    "        print(\"-----------------------------------------------\")\n",
    "    def return_item(self):\n",
    "        super().show_details()\n",
    "        print(\"Magazine returned...\")\n",
    "        print(\"-----------------------------------------------\")"
   ]
  },
  {
   "cell_type": "code",
   "execution_count": 16,
   "id": "f0fea46a",
   "metadata": {},
   "outputs": [
    {
     "name": "stdout",
     "output_type": "stream",
     "text": [
      "Book: A Space Odyssey, Author: Arthur C. Clarke, Year of publication: 2001...\n",
      "Checked out...It has 4.6/5 rating...\n",
      "-----------------------------------------------\n",
      "Book: A Space Odyssey, Author: Arthur C. Clarke, Year of publication: 2001...\n",
      "Book returned...\n",
      "-----------------------------------------------\n",
      "Book: Spider-Man: Freak! Public Menace!, Author: Stan Lee, Year of publication: 1963...\n",
      "Checked out...It is a/an Sci-Fi...\n",
      "-----------------------------------------------\n",
      "Book: Spider-Man: Freak! Public Menace!, Author: Stan Lee, Year of publication: 1963...\n",
      "Magazine returned...\n",
      "-----------------------------------------------\n"
     ]
    }
   ],
   "source": [
    "book = Book(\"A Space Odyssey\", \"Arthur C. Clarke\", 2001, 4.6)\n",
    "book.checkout()\n",
    "book.return_item()\n",
    "magazine = Magazine(\"Spider-Man: Freak! Public Menace!\", \"Stan Lee\", 1963, \"Sci-Fi\")\n",
    "magazine.checkout()\n",
    "magazine.return_item()"
   ]
  },
  {
   "cell_type": "markdown",
   "id": "5ca69e19",
   "metadata": {},
   "source": [
    "#### 9. Employees and Departments: Create a base class called Employee with attributes such as name, salary, and department. Implement two subclasses Manager and Staff that inherit from Employee. Add additional methods to the subclasses, such as assign_task() for managers and attend_meeting() for staff members. Create a separate class called Department that contains a list of employees and methods to add or remove employees from the department."
   ]
  },
  {
   "cell_type": "code",
   "execution_count": 17,
   "id": "4497cd21",
   "metadata": {},
   "outputs": [],
   "source": [
    "class Employee:\n",
    "    def __init__(self, name, salary, department):\n",
    "        self.name = name\n",
    "        self.salary = salary\n",
    "        self.department = department\n",
    "    def show_details(self):\n",
    "        print(f\"Name of employee: {self.name}, Salary: {self.salary}, Department: {self.department}\")\n",
    "class Manager(Employee):\n",
    "    def assign_task(self):\n",
    "        super().show_details()\n",
    "        print(\"Task assigned.\")\n",
    "class Staff(Employee):\n",
    "    def attend_meeting(self):\n",
    "        super().show_details()\n",
    "        print(\"In a meeting.\")\n",
    "class Department:\n",
    "    def __init__(self, department):\n",
    "        self.department = department\n",
    "    def add_employee(self, name):\n",
    "        print(f\"{name} has been added to {self.department} department.\")\n",
    "    def remove_employee(self, name):\n",
    "        print(f\"{name} has been removed from {self.department} department.\")\n",
    "    "
   ]
  },
  {
   "cell_type": "code",
   "execution_count": 18,
   "id": "7f12fcbe",
   "metadata": {},
   "outputs": [
    {
     "name": "stdout",
     "output_type": "stream",
     "text": [
      "Name of employee: Grumpy, Salary: 70000, Department: IT\n",
      "Task assigned.\n",
      "Name of employee: Happy, Salary: 30000, Department: IT\n",
      "In a meeting.\n",
      "Sleepy has been added to AI department.\n",
      "Sleepy has been removed from AI department.\n"
     ]
    }
   ],
   "source": [
    "m = Manager(\"Grumpy\", 70000, \"IT\" )\n",
    "m.assign_task()\n",
    "s = Staff(\"Happy\", 30000, \"IT\")\n",
    "s.attend_meeting()\n",
    "d = Department(\"AI\")\n",
    "d.add_employee(\"Sleepy\")\n",
    "d.remove_employee(\"Sleepy\")"
   ]
  },
  {
   "cell_type": "markdown",
   "id": "a99a3561",
   "metadata": {},
   "source": [
    "#### 10. Bank Transactions: Create a base class called BankAccount with attributes such as account_number and balance. Implement subclasses for different types of accounts such as CheckingAccount and SavingsAccount that inherit from BankAccount. Add additional methods to the subclasses, such as withdraw() and deposit(), and handle any specific behavior or rules for each account type."
   ]
  },
  {
   "cell_type": "code",
   "execution_count": 19,
   "id": "3b07bb80",
   "metadata": {},
   "outputs": [],
   "source": [
    "class BankAccount01:\n",
    "    def __init__(self, account_number, balance=0):\n",
    "        self.acc_no = account_number\n",
    "        self.bal = 0\n",
    "        self.savings_balance = 0\n",
    "        self.checking_balance = 0\n",
    "    def show_details(self):\n",
    "        print(f\"Account Number: {self.acc_no}\")\n",
    "class CheckingAccount(BankAccount01):\n",
    "    def __init__(self, account_number, balance):\n",
    "        super().__init__(account_number, balance)\n",
    "        self.savings_balance = balance\n",
    "    def withdraw(self, amount):\n",
    "        if amount>self.checking_balance:\n",
    "            print(\"Your Checking Account balance is less than withdraw amount.\")\n",
    "            print(\"-------------------------------------------------------------------\")\n",
    "        else:\n",
    "            self.checking_balance -= amount\n",
    "            super().show_details\n",
    "            print(f\"Checking Account balance: {self.checking_balance}\")\n",
    "            print(f\"Savings Account balance: {self.savings_balance}\")\n",
    "            print(f\"Total balance: {self.checking_balance+self.savings_balance}\")\n",
    "            print(\"-------------------------------------------------------------------\")\n",
    "    def deposit(self, amount):\n",
    "        self.checking_balance += amount\n",
    "        super().show_details\n",
    "        print(f\"Checking Account balance: {self.checking_balance}\")\n",
    "        print(f\"Savings Account balance: {self.savings_balance}\")\n",
    "        print(f\"Total balance: {self.checking_balance+self.savings_balance}\")\n",
    "        print(\"-------------------------------------------------------------------\")\n",
    "            \n",
    "class SavingsAccount(BankAccount01):\n",
    "    def __init__(self, account_number, balance):\n",
    "        super().__init__(account_number, balance)\n",
    "        self.checking_balance = balance\n",
    "    def withdraw(self, amount):\n",
    "        if amount>self.savings_balance:\n",
    "            print(\"Your Savings Account balance is less than withdraw amount.\")\n",
    "            print(\"-------------------------------------------------------------------\")\n",
    "        else:\n",
    "            self.savings_balance -= amount\n",
    "            super().show_details\n",
    "            print(f\"Checking Account balance: {self.checking_balance}\")\n",
    "            print(f\"Savings Account balance: {self.savings_balance}\")\n",
    "            print(f\"Total balance: {self.checking_balance+self.savings_balance}\")\n",
    "            print(\"-------------------------------------------------------------------\")\n",
    "    def deposit(self, amount):\n",
    "        self.savings_balance += amount\n",
    "        super().show_details\n",
    "        print(f\"Checking Account balance: {self.checking_balance}\")\n",
    "        print(f\"Savings Account balance: {self.savings_balance}\")\n",
    "        print(f\"Total balance: {self.checking_balance+self.savings_balance}\")\n",
    "        print(\"-------------------------------------------------------------------\")"
   ]
  },
  {
   "cell_type": "code",
   "execution_count": 20,
   "id": "a1ce4309",
   "metadata": {},
   "outputs": [
    {
     "name": "stdout",
     "output_type": "stream",
     "text": [
      "Your Checking Account balance is less than withdraw amount.\n",
      "-------------------------------------------------------------------\n",
      "Checking Account balance: 12000\n",
      "Savings Account balance: 10000\n",
      "Total balance: 22000\n",
      "-------------------------------------------------------------------\n",
      "Checking Account balance: 10500\n",
      "Savings Account balance: 10000\n",
      "Total balance: 20500\n",
      "-------------------------------------------------------------------\n",
      "Your Savings Account balance is less than withdraw amount.\n",
      "-------------------------------------------------------------------\n",
      "Checking Account balance: 15000\n",
      "Savings Account balance: 7000\n",
      "Total balance: 22000\n",
      "-------------------------------------------------------------------\n",
      "Checking Account balance: 15000\n",
      "Savings Account balance: 3500\n",
      "Total balance: 18500\n",
      "-------------------------------------------------------------------\n"
     ]
    }
   ],
   "source": [
    "#Case 1: Checking account object created and amount is added to savings balance\n",
    "#Methods withdraw() and deposit() act on checking account balance\n",
    "c = CheckingAccount(123456789, 10000)\n",
    "c.withdraw(11000)\n",
    "c.deposit(12000)\n",
    "c.withdraw(1500)\n",
    "#Case 2: Savings account object created and amount is added to checking balance\n",
    "#Methods withdraw() and deposit() act on savings account balance\n",
    "s = SavingsAccount(987654321, 15000)\n",
    "s.withdraw(16000)\n",
    "s.deposit(7000)\n",
    "s.withdraw(3500)"
   ]
  },
  {
   "cell_type": "markdown",
   "id": "a26bb72a",
   "metadata": {},
   "source": [
    "#### 11. School Management System: Create a base class called Person with attributes such as name, age, and address. Implement subclasses for different roles such as Student, Teacher, and Staff that inherit from Person. Add additional methods to the subclasses, such as take_exam() for students and teach_subject() for teachers."
   ]
  },
  {
   "cell_type": "code",
   "execution_count": 21,
   "id": "671b0ab9",
   "metadata": {},
   "outputs": [],
   "source": [
    "class Person01:\n",
    "    def __init__(self, name, age, address):\n",
    "        self.name = name\n",
    "        self.age = age\n",
    "        self.address = address\n",
    "    def display_info(self):\n",
    "        print(f\"Name: {self.name}, Age: {self.age}, Address: {self.address}.\")\n",
    "class Student(Person01):\n",
    "    def __init__(self, name, age, address, career_percentage):\n",
    "        super().__init__(name, age, address)\n",
    "        self.career_percentage = career_percentage\n",
    "    def take_exam(self):\n",
    "        super().display_info()\n",
    "        print(f\"Career percentage: {self.career_percentage}\")\n",
    "        print(\"Is taking another exam.\")\n",
    "class Teacher(Person01):\n",
    "    def __init__(self, name, age, address, teaching_experience):\n",
    "        super().__init__(name, age, address)\n",
    "        self.teaching_experience = teaching_experience\n",
    "    def teach_subject(self, subject):\n",
    "        super().display_info()\n",
    "        print(f\"Years of teaching exprience: {self.teaching_experience}\")\n",
    "        print(f\"Is taking another class in {subject}.\")\n",
    "class Staff(Person01):\n",
    "    def __init__(self, name, age, address, salary):\n",
    "        super().__init__(name, age, address)\n",
    "        self.salary = salary\n",
    "    def do_task(self):\n",
    "        super().display_info()\n",
    "        print(f\"Salary: {self.salary}\")\n",
    "        print(\"Is doing another task.\")"
   ]
  },
  {
   "cell_type": "code",
   "execution_count": 22,
   "id": "faa28121",
   "metadata": {},
   "outputs": [
    {
     "name": "stdout",
     "output_type": "stream",
     "text": [
      "Name: Amlan, Age: 25, Address: Cuttack.\n",
      "Career percentage: 85\n",
      "Is taking another exam.\n",
      "Name: Krish, Age: 35, Address: Hyderabad.\n",
      "Years of teaching exprience: 10\n",
      "Is taking another class in AI.\n",
      "Name: Xyz, Age: 30, Address: Abc.\n",
      "Salary: 30000\n",
      "Is doing another task.\n"
     ]
    }
   ],
   "source": [
    "s = Student(\"Amlan\", 25, \"Cuttack\", 85)\n",
    "s.take_exam()\n",
    "t = Teacher(\"Krish\", 35, \"Hyderabad\", 10)\n",
    "t.teach_subject(\"AI\")\n",
    "st = Staff(\"Xyz\", 30, \"Abc\", 30000)\n",
    "st.do_task()"
   ]
  },
  {
   "cell_type": "code",
   "execution_count": null,
   "id": "18709f31",
   "metadata": {},
   "outputs": [],
   "source": []
  }
 ],
 "metadata": {
  "kernelspec": {
   "display_name": "Python 3 (ipykernel)",
   "language": "python",
   "name": "python3"
  },
  "language_info": {
   "codemirror_mode": {
    "name": "ipython",
    "version": 3
   },
   "file_extension": ".py",
   "mimetype": "text/x-python",
   "name": "python",
   "nbconvert_exporter": "python",
   "pygments_lexer": "ipython3",
   "version": "3.9.0"
  }
 },
 "nbformat": 4,
 "nbformat_minor": 5
}
