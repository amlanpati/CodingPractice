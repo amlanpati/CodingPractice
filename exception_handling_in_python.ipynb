{
 "cells": [
  {
   "cell_type": "markdown",
   "id": "20b2b8f7",
   "metadata": {},
   "source": [
    "### 1. An interactive calculator"
   ]
  },
  {
   "cell_type": "code",
   "execution_count": 1,
   "id": "5a7028e4",
   "metadata": {},
   "outputs": [
    {
     "name": "stdout",
     "output_type": "stream",
     "text": [
      "Enter the equation ('a + b'/'a - b'/'a * b'/'a / b'): 12 / 0\n",
      "Division by zero cannot be done.\n",
      "Enter the equation ('a + b'/'a - b'/'a * b'/'a / b'): a + b\n",
      "Enter numerical values only.\n",
      "Enter the equation ('a + b'/'a - b'/'a * b'/'a / b'): 192-32\n",
      "Write in the specified format only (equation with spaces).\n",
      "Enter the equation ('a + b'/'a - b'/'a * b'/'a / b'): 3344\n",
      "Write in the specified format only (equation with spaces).\n",
      "Enter the equation ('a + b'/'a - b'/'a * b'/'a / b'): 13 * 143.25\n",
      "Result :  1862.25\n"
     ]
    }
   ],
   "source": [
    "condition = True\n",
    "while condition == True:\n",
    "    try:            \n",
    "        eq = input(\"Enter the equation ('a + b'/'a - b'/'a * b'/'a / b'): \")\n",
    "        eq = eq.split()\n",
    "        if len(eq) != 3:\n",
    "            raise IndexError\n",
    "        a = float(eq[0])\n",
    "        b = float(eq[-1])\n",
    "        symbol = eq[1]\n",
    "        result = None    #Variable to store the result\n",
    "\n",
    "        if symbol == '+':\n",
    "            result = a + b\n",
    "        elif symbol == '-':\n",
    "            result = a - b\n",
    "        elif symbol == '*':\n",
    "            result = a * b\n",
    "        elif symbol == '/':\n",
    "            result = a / b\n",
    "        else:\n",
    "            print(\"Use one of these symbols: +, -, *, /\")\n",
    "\n",
    "        if result is not None:\n",
    "            print(\"Result : \", result)\n",
    "            condition = False    #Getting out of the loop\n",
    "    \n",
    "    except ZeroDivisionError:\n",
    "        print(\"Division by zero cannot be done.\")\n",
    "        \n",
    "    except ValueError:\n",
    "        print(\"Enter numerical values only.\")\n",
    "        \n",
    "    except IndexError:\n",
    "        print(\"Write in the specified format only (equation with spaces).\")\n",
    "    \n",
    "    except Exception as e:\n",
    "        print(\"Error occurred:\", e)"
   ]
  },
  {
   "cell_type": "markdown",
   "id": "66f8924c",
   "metadata": {},
   "source": [
    "### 2. Write a Python program that opens a file and handles a FileNotFoundError exception if the file does not exist."
   ]
  },
  {
   "cell_type": "code",
   "execution_count": 2,
   "id": "61ced545",
   "metadata": {},
   "outputs": [],
   "source": [
    "def open_file(filename):\n",
    "    try:\n",
    "        file = open(filename, 'r')\n",
    "        contents = file.read()\n",
    "        print(\"File contents:\")\n",
    "        print(contents)\n",
    "        file.close()\n",
    "    except FileNotFoundError:\n",
    "        print(\"Error: File not found.\")"
   ]
  },
  {
   "cell_type": "code",
   "execution_count": 3,
   "id": "9ffed5de",
   "metadata": {},
   "outputs": [
    {
     "name": "stdout",
     "output_type": "stream",
     "text": [
      "Input a file name: msg.txt\n",
      "File contents:\n",
      "Hello, this is my .txt file that I created in the same directory as the .ipynb file, before running the code.\n"
     ]
    }
   ],
   "source": [
    "#Sample Usage 1 (Correct File Name)\n",
    "file_name = input(\"Input a file name: \")\n",
    "open_file(file_name)"
   ]
  },
  {
   "cell_type": "code",
   "execution_count": 4,
   "id": "45edf7c2",
   "metadata": {},
   "outputs": [
    {
     "name": "stdout",
     "output_type": "stream",
     "text": [
      "Input a file name: abc.txt\n",
      "Error: File not found.\n"
     ]
    }
   ],
   "source": [
    "#Sample Usage 2 (Incorrect File Name)\n",
    "file_name = input(\"Input a file name: \")\n",
    "open_file(file_name)"
   ]
  },
  {
   "cell_type": "markdown",
   "id": "77c33fdf",
   "metadata": {},
   "source": [
    "### 3. Write a Python program that prompts the user to input two numbers and raises a TypeError exception if the inputs are not numerical."
   ]
  },
  {
   "cell_type": "code",
   "execution_count": 5,
   "id": "06f73272",
   "metadata": {},
   "outputs": [],
   "source": [
    "def get_numeric_input(prompt):\n",
    "    while True:\n",
    "        try:\n",
    "            value = float(input(prompt))\n",
    "            return value\n",
    "        except ValueError:\n",
    "            print(\"Error: Invalid input. Please Input a valid number.\")"
   ]
  },
  {
   "cell_type": "code",
   "execution_count": 6,
   "id": "c677f769",
   "metadata": {},
   "outputs": [
    {
     "name": "stdout",
     "output_type": "stream",
     "text": [
      "Input the first number: a\n",
      "Error: Invalid input. Please Input a valid number.\n",
      "Input the first number: 17\n",
      "Input the second number: b\n",
      "Error: Invalid input. Please Input a valid number.\n",
      "Input the second number: 21\n",
      "Product of the two numbers: 357.0\n"
     ]
    }
   ],
   "source": [
    "#Sample Usage\n",
    "n1 = get_numeric_input(\"Input the first number: \")\n",
    "n2 = get_numeric_input(\"Input the second number: \")\n",
    "result = n1 * n2\n",
    "print(\"Product of the two numbers:\", result)"
   ]
  },
  {
   "cell_type": "markdown",
   "id": "bdd0ee87",
   "metadata": {},
   "source": [
    "### 4. Write a Python program that executes division and handles an ArithmeticError exception if there is an arithmetic error."
   ]
  },
  {
   "cell_type": "code",
   "execution_count": 7,
   "id": "a1dce501",
   "metadata": {},
   "outputs": [],
   "source": [
    "def divide(dividend, divisor):\n",
    "    try:\n",
    "        result = dividend / divisor\n",
    "        print(\"Result:\", result)\n",
    "    except ArithmeticError:\n",
    "        print(\"Error: Arithmetic error occurred!\")"
   ]
  },
  {
   "cell_type": "code",
   "execution_count": 8,
   "id": "c7a6d267",
   "metadata": {},
   "outputs": [
    {
     "name": "stdout",
     "output_type": "stream",
     "text": [
      "Input the dividend: 78\n",
      "Input the divisor: 0\n",
      "Error: Arithmetic error occurred!\n"
     ]
    }
   ],
   "source": [
    "#Usage\n",
    "dividend = float(input(\"Input the dividend: \"))\n",
    "divisor = float(input(\"Input the divisor: \"))\n",
    "divide(dividend, divisor)"
   ]
  },
  {
   "cell_type": "markdown",
   "id": "d681ad53",
   "metadata": {},
   "source": [
    "### 5. Write a Python program that executes a list operation and handles an AttributeError exception if the attribute does not exist."
   ]
  },
  {
   "cell_type": "code",
   "execution_count": 9,
   "id": "db409462",
   "metadata": {},
   "outputs": [
    {
     "name": "stdout",
     "output_type": "stream",
     "text": [
      "Error: The list does not have a 'length' attribute.\n"
     ]
    }
   ],
   "source": [
    "def test_list_operation(nums):\n",
    "    try:\n",
    "        r1 = nums.length  # Trying to access the 'length' attribute\n",
    "        print(\"Length of the list:\", r1)\n",
    "    except AttributeError:\n",
    "        print(\"Error: The list does not have a 'length' attribute.\")\n",
    "nums = [1, 2, 3, 4, 5]\n",
    "test_list_operation(nums) "
   ]
  }
 ],
 "metadata": {
  "kernelspec": {
   "display_name": "Python 3 (ipykernel)",
   "language": "python",
   "name": "python3"
  },
  "language_info": {
   "codemirror_mode": {
    "name": "ipython",
    "version": 3
   },
   "file_extension": ".py",
   "mimetype": "text/x-python",
   "name": "python",
   "nbconvert_exporter": "python",
   "pygments_lexer": "ipython3",
   "version": "3.9.0"
  }
 },
 "nbformat": 4,
 "nbformat_minor": 5
}
